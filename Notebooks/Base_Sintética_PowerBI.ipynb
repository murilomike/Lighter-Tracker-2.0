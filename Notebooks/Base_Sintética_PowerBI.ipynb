{
  "nbformat": 4,
  "nbformat_minor": 0,
  "metadata": {
    "colab": {
      "provenance": []
    },
    "kernelspec": {
      "name": "python3",
      "display_name": "Python 3"
    },
    "language_info": {
      "name": "python"
    }
  },
  "cells": [
    {
      "cell_type": "markdown",
      "source": [
        "#Base Sintética para o Power BI"
      ],
      "metadata": {
        "id": "LADIwFWhJerm"
      }
    },
    {
      "cell_type": "code",
      "source": [
        "!pip install faker pandas numpy"
      ],
      "metadata": {
        "colab": {
          "base_uri": "https://localhost:8080/"
        },
        "id": "c1vdaRhvR6gV",
        "outputId": "cf85c600-8eae-4243-bac7-658744f695e6"
      },
      "execution_count": null,
      "outputs": [
        {
          "output_type": "stream",
          "name": "stdout",
          "text": [
            "Collecting faker\n",
            "  Downloading faker-37.8.0-py3-none-any.whl.metadata (15 kB)\n",
            "Requirement already satisfied: pandas in /usr/local/lib/python3.12/dist-packages (2.2.2)\n",
            "Requirement already satisfied: numpy in /usr/local/lib/python3.12/dist-packages (2.0.2)\n",
            "Requirement already satisfied: tzdata in /usr/local/lib/python3.12/dist-packages (from faker) (2025.2)\n",
            "Requirement already satisfied: python-dateutil>=2.8.2 in /usr/local/lib/python3.12/dist-packages (from pandas) (2.9.0.post0)\n",
            "Requirement already satisfied: pytz>=2020.1 in /usr/local/lib/python3.12/dist-packages (from pandas) (2025.2)\n",
            "Requirement already satisfied: six>=1.5 in /usr/local/lib/python3.12/dist-packages (from python-dateutil>=2.8.2->pandas) (1.17.0)\n",
            "Downloading faker-37.8.0-py3-none-any.whl (2.0 MB)\n",
            "\u001b[2K   \u001b[90m━━━━━━━━━━━━━━━━━━━━━━━━━━━━━━━━━━━━━━━━\u001b[0m \u001b[32m2.0/2.0 MB\u001b[0m \u001b[31m10.9 MB/s\u001b[0m eta \u001b[36m0:00:00\u001b[0m\n",
            "\u001b[?25hInstalling collected packages: faker\n",
            "Successfully installed faker-37.8.0\n"
          ]
        }
      ]
    },
    {
      "cell_type": "code",
      "source": [
        "import pandas as pd\n",
        "import random\n",
        "from datetime import datetime, timedelta\n",
        "from faker import Faker\n",
        "import numpy as np\n",
        "\n",
        "# Configurar Faker para nomes em português\n",
        "fake = Faker('pt_BR')\n",
        "Faker.seed(42)  # Para reprodutibilidade\n",
        "random.seed(42)\n",
        "np.random.seed(42)\n",
        "\n",
        "# Parâmetros\n",
        "num_usuarios = 50\n",
        "num_registros = 300\n",
        "start_date = datetime(2025, 1, 1)\n",
        "end_date = datetime(2025, 9, 9)\n",
        "\n",
        "# Listas para geração de dados\n",
        "generos = ['M'] * 43 + ['F'] * 7  # 43 homens, 7 mulheres\n",
        "fumantes = ['Sim', 'Não']\n",
        "marcas_isqueiro = ['Bic', 'Zippo', 'Clipper', 'Flamingo', 'Genérico']\n",
        "locais = ['Casa', 'Bar', 'Rua', 'Trabalho', 'Casa de Alguém', 'Esquecido em Algum Lugar']\n",
        "contextos_uso = ['Casa', 'Bar', 'Rua', 'Trabalho', 'Social', 'Festa', 'Rolê']\n",
        "propositos_uso = ['Cigarro', 'Incenso', 'Vela', 'Fogão', 'Camping']\n",
        "idades = list(range(18, 61))\n",
        "\n",
        "# Gerar tabela de usuários\n",
        "usuarios = []\n",
        "for i in range(num_usuarios):\n",
        "    genero = generos[i]\n",
        "    fumante = random.choices(fumantes, weights=[0.65, 0.35])[0] if genero == 'M' else random.choices(fumantes, weights=[0.35, 0.65])[0]\n",
        "    data_compra = fake.date_time_between(start_date, end_date - timedelta(days=30))  # Até 30 dias antes do fim\n",
        "    perdeu = random.choices([True, False], weights=[0.25, 0.75])[0]  # 25% de chance de perda\n",
        "    data_perda = None\n",
        "    local_perda = None\n",
        "    dias_ate_perda = 0\n",
        "    if perdeu:\n",
        "        max_perda_date = min(data_compra + timedelta(days=180), end_date)\n",
        "        data_perda = fake.date_time_between(data_compra + timedelta(days=1), max_perda_date)\n",
        "        local_perda = random.choices(locais, weights=[0.25, 0.2, 0.3, 0.15, 0.05, 0.05])[0]  # Mais perdas na rua/bar\n",
        "        dias_ate_perda = (data_perda - data_compra).days\n",
        "    usuarios.append({\n",
        "        'id_usuario': i + 1,\n",
        "        'nome': fake.name(),\n",
        "        'genero': genero,\n",
        "        'idade': random.choice(idades),\n",
        "        'fumante': fumante,\n",
        "        'marca_isqueiro': random.choice(marcas_isqueiro),\n",
        "        'data_compra': data_compra,\n",
        "        'perdeu': perdeu,\n",
        "        'data_perda': data_perda,\n",
        "        'local_perda': local_perda,\n",
        "        'dias_ate_perda': dias_ate_perda\n",
        "    })\n",
        "\n",
        "df_usuarios = pd.DataFrame(usuarios)\n",
        "\n",
        "# Gerar tabela de usos\n",
        "usos = []\n",
        "for _ in range(num_registros):\n",
        "    usuario = random.choice(df_usuarios.to_dict('records'))\n",
        "    # Data do uso: entre data_compra e data_perda (se perdeu) ou end_date\n",
        "    end_uso = usuario['data_perda'] if usuario['perdeu'] else end_date\n",
        "    data_uso = fake.date_time_between(usuario['data_compra'], end_uso)\n",
        "    contexto = random.choice(contextos_uso)\n",
        "    # Fumantes usam mais para cigarro, não fumantes para incenso/vela/fogão\n",
        "    proposito = random.choices(propositos_uso, weights=[0.6, 0.1, 0.1, 0.1, 0.1])[0] if usuario['fumante'] == 'Sim' else random.choices(propositos_uso, weights=[0.15, 0.3, 0.3, 0.2, 0.05])[0]\n",
        "    # Mais acendimentos para cigarro, menos para outros propósitos\n",
        "    num_acendimentos = random.randint(5, 50) if proposito == 'Cigarro' else random.randint(1, 20)\n",
        "    usos.append({\n",
        "        'id_usuario': usuario['id_usuario'],\n",
        "        'nome': usuario['nome'],\n",
        "        'genero': usuario['genero'],\n",
        "        'idade': usuario['idade'],\n",
        "        'fumante': usuario['fumante'],\n",
        "        'marca_isqueiro': usuario['marca_isqueiro'],\n",
        "        'data_uso': data_uso,\n",
        "        'contexto_uso': contexto,\n",
        "        'proposito_uso': proposito,\n",
        "        'num_acendimentos': num_acendimentos,\n",
        "        'data_compra': usuario['data_compra'],\n",
        "        'perdeu': usuario['perdeu'],\n",
        "        'data_perda': usuario['data_perda'],\n",
        "        'local_perda': usuario['local_perda'],\n",
        "        'dias_ate_perda': usuario['dias_ate_perda']\n",
        "    })\n",
        "\n",
        "df_usos = pd.DataFrame(usos)\n",
        "\n",
        "# Adicionar faixa etária\n",
        "df_usos['faixa_idade'] = pd.cut(df_usos['idade'], bins=[0, 25, 35, 60], labels=['18-25', '26-35', '36+'])\n",
        "\n",
        "# Adicionar mês/ano para análise temporal\n",
        "df_usos['mes_ano'] = df_usos['data_uso'].dt.to_period('M')\n",
        "\n",
        "# Preencher possíveis valores nulos\n",
        "df_usos = df_usos.fillna({\n",
        "    'num_acendimentos': 0,\n",
        "    'dias_ate_perda': 0,\n",
        "    'local_perda': 'N/A',\n",
        "    'contexto_uso': 'N/A',\n",
        "    'proposito_uso': 'N/A',\n",
        "    'faixa_idade': '36+',\n",
        "    'mes_ano': 'N/A'\n",
        "})\n",
        "\n",
        "# Garantir tipos de dados\n",
        "df_usos = df_usos.astype({\n",
        "    'id_usuario': 'int',\n",
        "    'nome': 'str',\n",
        "    'genero': 'str',\n",
        "    'idade': 'int',\n",
        "    'fumante': 'str',\n",
        "    'marca_isqueiro': 'str',\n",
        "    'data_uso': 'datetime64[ns]',\n",
        "    'contexto_uso': 'str',\n",
        "    'proposito_uso': 'str',\n",
        "    'num_acendimentos': 'int',\n",
        "    'data_compra': 'datetime64[ns]',\n",
        "    'perdeu': 'bool',\n",
        "    'data_perda': 'datetime64[ns]',\n",
        "    'local_perda': 'str',\n",
        "    'dias_ate_perda': 'int',\n",
        "    'faixa_idade': 'category',\n",
        "    'mes_ano': 'str'\n",
        "})\n",
        "\n",
        "# Exportar para CSV (pronto para Power BI)\n",
        "df_usos.to_csv('base_isqueiros_powerbi.csv', index=False, encoding='utf-8')\n",
        "\n",
        "# Resumo da base\n",
        "print(\"=== BASE SINTÉTICA PARA POWER BI (primeiros 10 registros) ===\")\n",
        "print(df_usos.head(10).to_string(index=False))\n",
        "print(f\"\\nShape: {df_usos.shape}\")\n",
        "print(\"Colunas: \", df_usos.columns.tolist())\n",
        "print(f\"NaNs totais: {df_usos.isnull().sum().sum()}\")\n",
        "print(f\"Período de usos: {df_usos['data_uso'].min()} a {df_usos['data_uso'].max()}\")\n",
        "print(f\"Distribuição gênero: {df_usos['genero'].value_counts().to_dict()}\")\n",
        "print(f\"Distribuição fumante: {df_usos['fumante'].value_counts().to_dict()}\")\n",
        "print(f\"Distribuição contexto de uso: {df_usos['contexto_uso'].value_counts().to_dict()}\")\n",
        "print(f\"Distribuição propósito de uso: {df_usos['proposito_uso'].value_counts().to_dict()}\")\n",
        "print(f\"Distribuição local de perda: {df_usos[df_usos['perdeu'] == True]['local_perda'].value_counts().to_dict()}\")\n",
        "print(f\"Média de dias até a perda: {df_usos[df_usos['perdeu'] == True]['dias_ate_perda'].mean():.2f} dias\")\n",
        "print(f\"Total de acendimentos: {df_usos['num_acendimentos'].sum()}\")\n",
        "print(f\"Total de perdas: {df_usos['perdeu'].sum()}\")\n",
        "print(f\"Total de usuários únicos: {df_usos['id_usuario'].nunique()}\")"
      ],
      "metadata": {
        "id": "YIgQGK5fLmPd",
        "outputId": "3435dd65-8217-48b6-b1de-12f0ebc00690",
        "colab": {
          "base_uri": "https://localhost:8080/",
          "height": 383
        }
      },
      "execution_count": null,
      "outputs": [
        {
          "output_type": "error",
          "ename": "ModuleNotFoundError",
          "evalue": "No module named 'faker'",
          "traceback": [
            "\u001b[0;31m---------------------------------------------------------------------------\u001b[0m",
            "\u001b[0;31mModuleNotFoundError\u001b[0m                       Traceback (most recent call last)",
            "\u001b[0;32m/tmp/ipython-input-1799486487.py\u001b[0m in \u001b[0;36m<cell line: 0>\u001b[0;34m()\u001b[0m\n\u001b[1;32m      2\u001b[0m \u001b[0;32mimport\u001b[0m \u001b[0mrandom\u001b[0m\u001b[0;34m\u001b[0m\u001b[0;34m\u001b[0m\u001b[0m\n\u001b[1;32m      3\u001b[0m \u001b[0;32mfrom\u001b[0m \u001b[0mdatetime\u001b[0m \u001b[0;32mimport\u001b[0m \u001b[0mdatetime\u001b[0m\u001b[0;34m,\u001b[0m \u001b[0mtimedelta\u001b[0m\u001b[0;34m\u001b[0m\u001b[0;34m\u001b[0m\u001b[0m\n\u001b[0;32m----> 4\u001b[0;31m \u001b[0;32mfrom\u001b[0m \u001b[0mfaker\u001b[0m \u001b[0;32mimport\u001b[0m \u001b[0mFaker\u001b[0m\u001b[0;34m\u001b[0m\u001b[0;34m\u001b[0m\u001b[0m\n\u001b[0m\u001b[1;32m      5\u001b[0m \u001b[0;32mimport\u001b[0m \u001b[0mnumpy\u001b[0m \u001b[0;32mas\u001b[0m \u001b[0mnp\u001b[0m\u001b[0;34m\u001b[0m\u001b[0;34m\u001b[0m\u001b[0m\n\u001b[1;32m      6\u001b[0m \u001b[0;34m\u001b[0m\u001b[0m\n",
            "\u001b[0;31mModuleNotFoundError\u001b[0m: No module named 'faker'",
            "",
            "\u001b[0;31m---------------------------------------------------------------------------\u001b[0;32m\nNOTE: If your import is failing due to a missing package, you can\nmanually install dependencies using either !pip or !apt.\n\nTo view examples of installing some common dependencies, click the\n\"Open Examples\" button below.\n\u001b[0;31m---------------------------------------------------------------------------\u001b[0m\n"
          ],
          "errorDetails": {
            "actions": [
              {
                "action": "open_url",
                "actionText": "Open Examples",
                "url": "/notebooks/snippets/importing_libraries.ipynb"
              }
            ]
          }
        }
      ]
    },
    {
      "cell_type": "code",
      "source": [
        "df = pd.read_csv('base_isqueiros_powerbi.csv')"
      ],
      "metadata": {
        "id": "TjT_2YDe0JRw"
      },
      "execution_count": null,
      "outputs": []
    },
    {
      "cell_type": "code",
      "source": [
        "df['data_perda']"
      ],
      "metadata": {
        "colab": {
          "base_uri": "https://localhost:8080/",
          "height": 458
        },
        "id": "F8CwOQA20YAZ",
        "outputId": "0410b96e-ba5b-4126-d08b-eb1f8d59a457"
      },
      "execution_count": null,
      "outputs": [
        {
          "output_type": "execute_result",
          "data": {
            "text/plain": [
              "0                            NaT\n",
              "1     2025-09-06 00:30:16.890375\n",
              "2                            NaT\n",
              "3                            NaT\n",
              "4     2025-06-24 01:49:09.872183\n",
              "                 ...            \n",
              "295   2025-05-16 07:07:32.987381\n",
              "296                          NaT\n",
              "297                          NaT\n",
              "298   2025-09-06 00:30:16.890375\n",
              "299                          NaT\n",
              "Name: data_perda, Length: 300, dtype: datetime64[ns]"
            ],
            "text/html": [
              "<div>\n",
              "<style scoped>\n",
              "    .dataframe tbody tr th:only-of-type {\n",
              "        vertical-align: middle;\n",
              "    }\n",
              "\n",
              "    .dataframe tbody tr th {\n",
              "        vertical-align: top;\n",
              "    }\n",
              "\n",
              "    .dataframe thead th {\n",
              "        text-align: right;\n",
              "    }\n",
              "</style>\n",
              "<table border=\"1\" class=\"dataframe\">\n",
              "  <thead>\n",
              "    <tr style=\"text-align: right;\">\n",
              "      <th></th>\n",
              "      <th>data_perda</th>\n",
              "    </tr>\n",
              "  </thead>\n",
              "  <tbody>\n",
              "    <tr>\n",
              "      <th>0</th>\n",
              "      <td>NaT</td>\n",
              "    </tr>\n",
              "    <tr>\n",
              "      <th>1</th>\n",
              "      <td>2025-09-06 00:30:16.890375</td>\n",
              "    </tr>\n",
              "    <tr>\n",
              "      <th>2</th>\n",
              "      <td>NaT</td>\n",
              "    </tr>\n",
              "    <tr>\n",
              "      <th>3</th>\n",
              "      <td>NaT</td>\n",
              "    </tr>\n",
              "    <tr>\n",
              "      <th>4</th>\n",
              "      <td>2025-06-24 01:49:09.872183</td>\n",
              "    </tr>\n",
              "    <tr>\n",
              "      <th>...</th>\n",
              "      <td>...</td>\n",
              "    </tr>\n",
              "    <tr>\n",
              "      <th>295</th>\n",
              "      <td>2025-05-16 07:07:32.987381</td>\n",
              "    </tr>\n",
              "    <tr>\n",
              "      <th>296</th>\n",
              "      <td>NaT</td>\n",
              "    </tr>\n",
              "    <tr>\n",
              "      <th>297</th>\n",
              "      <td>NaT</td>\n",
              "    </tr>\n",
              "    <tr>\n",
              "      <th>298</th>\n",
              "      <td>2025-09-06 00:30:16.890375</td>\n",
              "    </tr>\n",
              "    <tr>\n",
              "      <th>299</th>\n",
              "      <td>NaT</td>\n",
              "    </tr>\n",
              "  </tbody>\n",
              "</table>\n",
              "<p>300 rows × 1 columns</p>\n",
              "</div><br><label><b>dtype:</b> datetime64[ns]</label>"
            ]
          },
          "metadata": {},
          "execution_count": 5
        }
      ]
    }
  ]
}